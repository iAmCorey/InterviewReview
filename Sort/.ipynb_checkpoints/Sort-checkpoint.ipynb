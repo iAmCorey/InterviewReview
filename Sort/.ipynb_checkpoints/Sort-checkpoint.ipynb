{
 "cells": [
  {
   "cell_type": "code",
   "execution_count": 38,
   "metadata": {},
   "outputs": [],
   "source": [
    "import time\n",
    "\n",
    "arr = [1, 5, 4, 0, 10, -3]"
   ]
  },
  {
   "cell_type": "code",
   "execution_count": 39,
   "metadata": {},
   "outputs": [
    {
     "name": "stdout",
     "output_type": "stream",
     "text": [
      "[-3, 0, 1, 4, 5, 10]\n",
      "0.00023102760314941406\n",
      "[-3, 0, 1, 4, 5, 10]\n",
      "8.606910705566406e-05\n"
     ]
    }
   ],
   "source": [
    "# bubble sort\n",
    "# 两两相比较，如果前面的比后面的大，就swap，一轮之后，max item会去到最右端。\n",
    "# 然后重复，直到完成。\n",
    "# O(n^2)\n",
    "# stable\n",
    "\n",
    "def bubble_sort(arr):\n",
    "    n = len(arr)\n",
    "    for i in range(0, n):\n",
    "        for j in range(1, n-i):\n",
    "            if arr[j-1]>arr[j]:\n",
    "                arr[j-1], arr[j] = arr[j], arr[j-1]\n",
    "    return arr\n",
    "\n",
    "now1 = time.time()\n",
    "print(bubble_sort(arr))\n",
    "print(time.time()-now1)\n",
    "\n",
    "# optimal version\n",
    "# 当不需要swap时，就停止了\n",
    "\n",
    "def bubble_sort_opt(arr):\n",
    "    n = len(arr)\n",
    "    for i in range(0, n):\n",
    "        no_sorted = True\n",
    "        for j in range(1, n-i):\n",
    "            if arr[j-1]>arr[j]:\n",
    "                arr[j-1], arr[j] = arr[j], arr[j-1]\n",
    "                no_sorted = False\n",
    "        if no_sorted:\n",
    "            break\n",
    "    return arr\n",
    "\n",
    "now2 = time.time()\n",
    "print(bubble_sort_opt(arr))\n",
    "print(time.time()-now2)"
   ]
  },
  {
   "cell_type": "code",
   "execution_count": 31,
   "metadata": {},
   "outputs": [],
   "source": [
    "# quick sort\n"
   ]
  },
  {
   "cell_type": "code",
   "execution_count": null,
   "metadata": {},
   "outputs": [],
   "source": []
  }
 ],
 "metadata": {
  "kernelspec": {
   "display_name": "Python 3",
   "language": "python",
   "name": "python3"
  },
  "language_info": {
   "codemirror_mode": {
    "name": "ipython",
    "version": 3
   },
   "file_extension": ".py",
   "mimetype": "text/x-python",
   "name": "python",
   "nbconvert_exporter": "python",
   "pygments_lexer": "ipython3",
   "version": "3.6.6"
  }
 },
 "nbformat": 4,
 "nbformat_minor": 2
}
