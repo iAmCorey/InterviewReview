{
 "cells": [
  {
   "cell_type": "code",
   "execution_count": 37,
   "metadata": {},
   "outputs": [],
   "source": [
    "import time\n",
    "\n",
    "arr = [1, 5, 4, 0, 10, -3, 6]"
   ]
  },
  {
   "cell_type": "markdown",
   "metadata": {},
   "source": [
    "# bubble sort\n",
    "两两相比较，如果前面的比后面的大，就swap，一轮之后，max item会去到最右端。\n",
    "然后重复，直到完成。\n",
    "- O(n^2)\n",
    "- stable"
   ]
  },
  {
   "cell_type": "code",
   "execution_count": 84,
   "metadata": {},
   "outputs": [
    {
     "name": "stdout",
     "output_type": "stream",
     "text": [
      "[-3, 0, 1, 4, 5, 10]\n",
      "0.0002300739288330078\n",
      "[-3, 0, 1, 4, 5, 10]\n",
      "9.703636169433594e-05\n"
     ]
    }
   ],
   "source": [
    "def bubble_sort(arr):\n",
    "    n = len(arr)\n",
    "    for i in range(n):\n",
    "        for j in range(1, n-i):\n",
    "            if arr[j-1]>arr[j]:\n",
    "                arr[j-1], arr[j] = arr[j], arr[j-1]\n",
    "    return arr\n",
    "\n",
    "now1 = time.time()\n",
    "print(bubble_sort(arr.copy()))\n",
    "print(time.time()-now1)"
   ]
  },
  {
   "cell_type": "markdown",
   "metadata": {},
   "source": [
    "# bubble optimal version\n",
    "当不需要swap时，就停止了"
   ]
  },
  {
   "cell_type": "code",
   "execution_count": null,
   "metadata": {},
   "outputs": [],
   "source": [
    "def bubble_sort_opt(arr):\n",
    "    n = len(arr)\n",
    "    for i in range(n):\n",
    "        no_sorted = True\n",
    "        for j in range(1, n-i):\n",
    "            if arr[j-1]>arr[j]:\n",
    "                arr[j-1], arr[j] = arr[j], arr[j-1]\n",
    "                no_sorted = False\n",
    "        if no_sorted:\n",
    "            break\n",
    "    return arr\n",
    "\n",
    "now2 = time.time()\n",
    "print(bubble_sort_opt(arr.copy()))\n",
    "print(time.time()-now2)"
   ]
  },
  {
   "cell_type": "markdown",
   "metadata": {},
   "source": [
    "# selection sort\n",
    "每次遍历unsorted的，从中选择一个min/max的，放在unsorted的第一位。（swap）\n",
    "重复，直到完成。\n",
    "- O(n^2)\n",
    "- unstable"
   ]
  },
  {
   "cell_type": "code",
   "execution_count": 104,
   "metadata": {},
   "outputs": [
    {
     "name": "stdout",
     "output_type": "stream",
     "text": [
      "[-3, 0, 1, 4, 5, 10]\n",
      "0.00023102760314941406\n"
     ]
    }
   ],
   "source": [
    "def sele_sort(arr):\n",
    "    n = len(arr)\n",
    "    for i in range(n-1):\n",
    "        min_value = arr[i]\n",
    "        min_index = i\n",
    "        for j in range(i,n):\n",
    "            if arr[j] < min_value:\n",
    "                min_value = arr[j]\n",
    "                min_index = j\n",
    "        arr[i], arr[min_index] = arr[min_index], arr[i]\n",
    "    return arr\n",
    "\n",
    "now3 = time.time()\n",
    "print(sele_sort(arr.copy()))\n",
    "print(time.time()-now3)"
   ]
  },
  {
   "cell_type": "markdown",
   "metadata": {},
   "source": [
    "# insertion sort\n",
    "每次遍历unsorted的，每遍历一个item，就将它放入前面的sorted中适合的位置。\n",
    "- O(n^2)\n",
    "- stable"
   ]
  },
  {
   "cell_type": "code",
   "execution_count": 105,
   "metadata": {},
   "outputs": [
    {
     "name": "stdout",
     "output_type": "stream",
     "text": [
      "[-3, 0, 1, 4, 5, 10]\n",
      "0.0002257823944091797\n"
     ]
    }
   ],
   "source": [
    "def insert_sort(arr):\n",
    "    n = len(arr)\n",
    "    for i in range(1,n):   \n",
    "        for j in range(i,0,-1):  \n",
    "            if arr[j] < arr[j-1]: \n",
    "                arr[j], arr[j-1] = arr[j-1], arr[j]\n",
    "            else:\n",
    "                break\n",
    "    return arr\n",
    "\n",
    "now4 = time.time()\n",
    "print(insert_sort(arr.copy()))\n",
    "print(time.time()-now4)\n",
    "\n"
   ]
  },
  {
   "cell_type": "markdown",
   "metadata": {},
   "source": [
    "实际运用上，Insertion Sort会比Bubble Sort和Selection Sort快\n",
    "\n",
    "---\n",
    "\n",
    "# binary insertion sort \n",
    "就是item插入前面的sorted的时候，用binary search的方法寻找位置。\n",
    "- O(n^2)\n",
    "- stable"
   ]
  },
  {
   "cell_type": "markdown",
   "metadata": {},
   "source": [
    "# Merge sort\n",
    "- divide and conquer\n",
    "- recursively 拆分数组直到分到不能拆为止。随后排序，再合并。\n",
    "- 合并时使用two-pointers\n",
    "- O(nlgn)\n",
    "- Time complexity: O(n)\n",
    "- stable"
   ]
  },
  {
   "cell_type": "code",
   "execution_count": 38,
   "metadata": {},
   "outputs": [
    {
     "name": "stdout",
     "output_type": "stream",
     "text": [
      "[-3, 0, 1, 4, 5, 6, 10]\n",
      "0.00030422210693359375\n"
     ]
    }
   ],
   "source": [
    "def merge_sort(arr):\n",
    "    n = len(arr)\n",
    "    \n",
    "    # divide\n",
    "    if(n <= 1):\n",
    "        return arr\n",
    "    m = n // 2\n",
    "    arr1 = merge_sort(arr[:m])\n",
    "    arr2 = merge_sort(arr[m:])\n",
    "    # merge\n",
    "    return __merge(arr1, arr2)\n",
    "    \n",
    "def __merge(arr1, arr2):     \n",
    "    # two-pointers i -> arr1[0], j -> arr2[0]\n",
    "    result = []\n",
    "    i,j = 0, 0\n",
    "    \n",
    "    while(i < len(arr1) and j < len(arr2)):\n",
    "        if(arr1[i] >= arr2[j]):\n",
    "            result.append(arr2[j])\n",
    "            j += 1\n",
    "        elif(arr1[i] < arr2[j]):\n",
    "            result.append(arr1[i])\n",
    "            i += 1\n",
    "            \n",
    "    if(i == len(arr1)):\n",
    "        result += arr2[j:]\n",
    "    else:\n",
    "        result += arr1[i:]\n",
    "    return result\n",
    "\n",
    "merge_time = time.time()\n",
    "print(merge_sort(arr.copy()))    \n",
    "print(time.time()-merge_time)   "
   ]
  },
  {
   "cell_type": "markdown",
   "metadata": {},
   "source": [
    "# Merge Optimal Version\n",
    "- 对小型子阵列使用insertion sort -> 叫做hybrid sort -> python3.5之前，sort/sorted都是用这种（merge+insertion）java/c++用的是quick sort\n",
    "- 合并时可以检查arr1[n-1]和arr2[m-1]的关系"
   ]
  },
  {
   "cell_type": "code",
   "execution_count": 39,
   "metadata": {},
   "outputs": [
    {
     "name": "stdout",
     "output_type": "stream",
     "text": [
      "[-3, 0, 1, 4, 5, 6, 10]\n",
      "0.00029397010803222656\n"
     ]
    }
   ],
   "source": [
    "def merge_sort_opt(arr):\n",
    "    n = len(arr)\n",
    "    \n",
    "    # divide\n",
    "    if(n <= 1):\n",
    "        return arr\n",
    "    m = n // 2\n",
    "    arr1 = merge_sort_opt(arr[:m])\n",
    "    arr2 = merge_sort_opt(arr[m:])\n",
    "    # merge\n",
    "    return __merge_opt(arr1, arr2)\n",
    "    \n",
    "def __merge_opt(arr1, arr2):     \n",
    "    # two-pointers i -> arr1[0], j -> arr2[0]\n",
    "    result = []\n",
    "    i,j = 0, 0\n",
    "    if(arr1[-1] <= arr2[0]):\n",
    "        return arr1 + arr2\n",
    "    if(arr2[-1] <= arr1[0]):\n",
    "        return arr2 + arr1\n",
    "    while(i < len(arr1) and j < len(arr2)):\n",
    "        if(arr1[i] >= arr2[j]):\n",
    "            result.append(arr2[j])\n",
    "            j += 1\n",
    "        elif(arr1[i] < arr2[j]):\n",
    "            result.append(arr1[i])\n",
    "            i += 1\n",
    "            \n",
    "    if(i == len(arr1)):\n",
    "        result += arr2[j:]\n",
    "    else:\n",
    "        result += arr1[i:]\n",
    "    return result\n",
    "\n",
    "merge_opt_time = time.time()\n",
    "print(merge_sort_opt(arr.copy()))    \n",
    "print(time.time()-merge_opt_time)   "
   ]
  },
  {
   "cell_type": "markdown",
   "metadata": {},
   "source": [
    "# quick sort\n",
    "- bubble sort的改进\n",
    "- 设定一个pivot，把比它小的放它左边，比它大的放它右边。\n",
    "- two-pointers \n",
    "\n",
    "---\n",
    "一趟快速排序的算法是：\n",
    "1. 设置两个变量i、j，排序开始的时候：i=0，j=N-1；\n",
    "2. 以第一个数组元素作为关键数据，赋值给key，即key=A[0]；\n",
    "3. 从j开始向前搜索，即由后开始向前搜索(j--)，找到第一个小于key的值A[j]，将A[j]的值赋给A[i]；\n",
    "4. 从i开始向后搜索，即由前开始向后搜索(i++)，找到第一个大于key的A[i]，将A[i]的值赋给A[j]；\n",
    "5. 重复第3、4步，直到i=j； \n",
    "<br>(3,4步中，没找到符合条件的值，即3中A[j]不小于key,4中A[i]不大于key的时候改变j、i的值，使得j=j-1，i=i+1，直至找到为止。\n",
    "<br>找到符合条件的值，进行交换的时候i，j指针位置不变。另外，i==j这一过程一定正好是i+或j-完成的时候，此时令循环结束）。\n",
    "\n",
    "---\n",
    "- divide and conquer\n",
    "- 目前最好的sort\n",
    "- O(nlgn)\n",
    "- unstable "
   ]
  },
  {
   "cell_type": "code",
   "execution_count": 62,
   "metadata": {},
   "outputs": [
    {
     "name": "stdout",
     "output_type": "stream",
     "text": [
      "[1, 5, 4, 0, 10, -3, 6]\n",
      "[-3, 0, 1, 4, 5, 6, 10]\n"
     ]
    }
   ],
   "source": [
    "# quick sort + recursive\n",
    "def quick_sort(arr):\n",
    "    if len(arr) <= 1:\n",
    "        return arr\n",
    "    pivot = arr[0]\n",
    "    left_num = quick_sort([x for x in arr[1:] if x < pivot])\n",
    "    right_num = quick_sort([x for x in arr[1:] if x >= pivot])\n",
    "    return left_num + [pivot] + right_num\n",
    "\n",
    "\n",
    "def partition(arr):\n",
    "    n = len(arr)\n",
    "    pivot = arr[0]\n",
    "    i,j = 0, n-1\n",
    "    while(i <= j):\n",
    "        while(arr[i] <= pivot):\n",
    "            i += 1\n",
    "        while(arr[j] >= pivot):\n",
    "            j -= 1\n",
    "        print(i,j)\n",
    "        if(i<=j):\n",
    "            arr[i], arr[j] = arr[j], arr[i]\n",
    "        else:\n",
    "            arr[0], arr[j] = arr[j], arr[0]\n",
    "    return arr\n",
    "\n",
    "\n",
    "print(arr)    \n",
    "print(quick_sort(arr.copy()))      \n"
   ]
  },
  {
   "cell_type": "markdown",
   "metadata": {},
   "source": [
    "# Quick Sort Optimal Version\n",
    "- 选择pivot为 中位数（第一个 + 最后一个 + 中间那个） -> 三点中值算法\n",
    "- 在数组很小时使用insertion sort"
   ]
  },
  {
   "cell_type": "code",
   "execution_count": null,
   "metadata": {},
   "outputs": [],
   "source": []
  }
 ],
 "metadata": {
  "kernelspec": {
   "display_name": "Python 3",
   "language": "python",
   "name": "python3"
  },
  "language_info": {
   "codemirror_mode": {
    "name": "ipython",
    "version": 3
   },
   "file_extension": ".py",
   "mimetype": "text/x-python",
   "name": "python",
   "nbconvert_exporter": "python",
   "pygments_lexer": "ipython3",
   "version": "3.6.6"
  }
 },
 "nbformat": 4,
 "nbformat_minor": 2
}
