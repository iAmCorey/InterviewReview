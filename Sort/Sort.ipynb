{
 "cells": [
  {
   "cell_type": "code",
   "execution_count": 62,
   "metadata": {},
   "outputs": [],
   "source": [
    "import time\n",
    "\n",
    "arr = [1, 5, 4, 0, 10, -3]"
   ]
  },
  {
   "cell_type": "code",
   "execution_count": 84,
   "metadata": {},
   "outputs": [
    {
     "name": "stdout",
     "output_type": "stream",
     "text": [
      "[-3, 0, 1, 4, 5, 10]\n",
      "0.0002300739288330078\n",
      "[-3, 0, 1, 4, 5, 10]\n",
      "9.703636169433594e-05\n"
     ]
    }
   ],
   "source": [
    "# bubble sort\n",
    "# 两两相比较，如果前面的比后面的大，就swap，一轮之后，max item会去到最右端。\n",
    "# 然后重复，直到完成。\n",
    "# O(n^2)\n",
    "# stable\n",
    "\n",
    "def bubble_sort(arr):\n",
    "    n = len(arr)\n",
    "    for i in range(n):\n",
    "        for j in range(1, n-i):\n",
    "            if arr[j-1]>arr[j]:\n",
    "                arr[j-1], arr[j] = arr[j], arr[j-1]\n",
    "    return arr\n",
    "\n",
    "now1 = time.time()\n",
    "print(bubble_sort(arr.copy()))\n",
    "print(time.time()-now1)\n",
    "\n",
    "# optimal version\n",
    "# 当不需要swap时，就停止了\n",
    "\n",
    "def bubble_sort_opt(arr):\n",
    "    n = len(arr)\n",
    "    for i in range(n):\n",
    "        no_sorted = True\n",
    "        for j in range(1, n-i):\n",
    "            if arr[j-1]>arr[j]:\n",
    "                arr[j-1], arr[j] = arr[j], arr[j-1]\n",
    "                no_sorted = False\n",
    "        if no_sorted:\n",
    "            break\n",
    "    return arr\n",
    "\n",
    "now2 = time.time()\n",
    "print(bubble_sort_opt(arr.copy()))\n",
    "print(time.time()-now2)"
   ]
  },
  {
   "cell_type": "code",
   "execution_count": 104,
   "metadata": {},
   "outputs": [
    {
     "name": "stdout",
     "output_type": "stream",
     "text": [
      "[-3, 0, 1, 4, 5, 10]\n",
      "0.00023102760314941406\n"
     ]
    }
   ],
   "source": [
    "# selection sort\n",
    "# 每次遍历unsorted的，从中选择一个min/max的，放在unsorted的第一位。（swap）\n",
    "# 重复，直到完成。\n",
    "# O(n^2)\n",
    "# unstable\n",
    "\n",
    "def sele_sort(arr):\n",
    "    n = len(arr)\n",
    "    for i in range(n-1):\n",
    "        min_value = arr[i]\n",
    "        min_index = i\n",
    "        for j in range(i,n):\n",
    "            if arr[j] < min_value:\n",
    "                min_value = arr[j]\n",
    "                min_index = j\n",
    "        arr[i], arr[min_index] = arr[min_index], arr[i]\n",
    "    return arr\n",
    "\n",
    "now3 = time.time()\n",
    "print(sele_sort(arr.copy()))\n",
    "print(time.time()-now3)"
   ]
  },
  {
   "cell_type": "code",
   "execution_count": 105,
   "metadata": {},
   "outputs": [
    {
     "name": "stdout",
     "output_type": "stream",
     "text": [
      "[-3, 0, 1, 4, 5, 10]\n",
      "0.0002257823944091797\n"
     ]
    }
   ],
   "source": [
    "# insertion sort\n",
    "# 每次遍历unsorted的，每遍历一个item，就将它放入前面的sorted中适合的位置。\n",
    "# O(n^2)\n",
    "# stable\n",
    "\n",
    "def insert_sort(arr):\n",
    "    n = len(arr)\n",
    "    for i in range(1,n):   \n",
    "        for j in range(i,0,-1):  \n",
    "            if arr[j] < arr[j-1]: \n",
    "                arr[j], arr[j-1] = arr[j-1], arr[j]\n",
    "            else:\n",
    "                break\n",
    "    return arr\n",
    "\n",
    "now4 = time.time()\n",
    "print(insert_sort(arr.copy()))\n",
    "print(time.time()-now4)\n",
    "\n",
    "# 实际运用上，Insertion Sort会比Bubble Sort和Selection Sort快\n",
    "\n",
    "# binary insertion sort \n",
    "# 就是item插入前面的sorted的时候，用binary search的方法寻找位置。\n",
    "# O(n^2)\n",
    "# stable"
   ]
  },
  {
   "cell_type": "code",
   "execution_count": 92,
   "metadata": {},
   "outputs": [
    {
     "name": "stdout",
     "output_type": "stream",
     "text": [
      "5\n",
      "4\n",
      "3\n",
      "2\n",
      "1\n",
      "0\n"
     ]
    }
   ],
   "source": [
    "# quick sort"
   ]
  },
  {
   "cell_type": "code",
   "execution_count": null,
   "metadata": {},
   "outputs": [],
   "source": []
  }
 ],
 "metadata": {
  "kernelspec": {
   "display_name": "Python 3",
   "language": "python",
   "name": "python3"
  },
  "language_info": {
   "codemirror_mode": {
    "name": "ipython",
    "version": 3
   },
   "file_extension": ".py",
   "mimetype": "text/x-python",
   "name": "python",
   "nbconvert_exporter": "python",
   "pygments_lexer": "ipython3",
   "version": "3.6.6"
  }
 },
 "nbformat": 4,
 "nbformat_minor": 2
}
